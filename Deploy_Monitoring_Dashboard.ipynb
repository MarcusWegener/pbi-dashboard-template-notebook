{
  "cells": [
    {
      "cell_type": "markdown",
      "metadata": {},
      "source": [
        "# Portable Power BI Dashboard Templates with Fabric Notebooks\n",
        "\n",
        "**Proof of Concept:** Transfer of a Power BI dashboard template to another semantic model  \n",
        "**Author:** Marcus Wegener • GitHub: [pbi-dashboard-template-notebook](https://github.com/MarcusWegener/pbi-dashboard-template-notebook)\n",
        "\n",
        "> **What this notebook demonstrates**  \n",
        "> A parameterized approach to *re-binding* field references in a Power BI report definition so that a dashboard template can be redeployed to a **different** semantic model with minimal manual effort.  \n",
        "> This enables a reusable **dashboard catalog** or even a **dashboard factory** pattern.\n",
        "\n",
        "---\n",
        "\n",
        "## Why this matters\n",
        "Power BI report definitions often contain hard-coded field bindings (tables, columns, measures). Reusing reports across models is tedious and error-prone.  \n",
        "This notebook shows how to **systematically replace** those bindings using Fabric Notebooks and `semPy`.\n",
        "\n",
        "---\n",
        "\n",
        "## At a glance\n",
        "- ✅ Parameterized template → **portable** dashboards\n",
        "- ✅ Uses `semPy` to update report definition programmatically\n",
        "- ✅ Keeps calculations **loosely coupled** using *Visual Calculations* where appropriate\n",
        "- ⚠️ **No sensitive data** required — uses a public reference model and demo data\n",
        "\n",
        "---\n",
        "\n",
        "## Prerequisites (Fabric)\n",
        "- Fabric capacity (trial or paid) and a workspace in Fabric\n",
        "- Contributor (or higher) on the workspace\n",
        "- Build permission for any semantic model you connect to\n",
        "- `semPy` enabled (Python in notebooks is currently **Preview**; PySpark is **GA**)\n",
        "- Your semantic model name must **not** end with a space\n",
        "\n",
        "> This notebook builds on the published reference project and template:  \n",
        "> **GitHub:** https://github.com/MarcusWegener/pbi-dashboard-template-notebook\n"
      ]
    },
    {
      "cell_type": "code",
      "execution_count": null,
      "id": "cc9ce150-570a-4f3a-be88-378d0e44854a",
      "metadata": {
        "microsoft": {
          "language": "python",
          "language_group": "jupyter_python"
        }
      },
      "outputs": [],
      "source": [
        "import io, os, json, base64, zipfile, tempfile, pathlib, typing, requests\n",
        "import sempy.fabric as fabric\n",
        "from sempy.fabric import FabricRestClient\n",
        "\n",
        "# ---------- CONFIG ----------\n",
        "workspace_id     = \"05407033-60c6-4fdc-85db-1d126ba9be51\"\n",
        "\n",
        "# Source (GitHub)\n",
        "github_repo      = \"https://github.com/MarcusWegener/pbi-dashboard-template-notebook\"\n",
        "github_branch    = \"main\"\n",
        "pbip_subfolder   = \"\"  # e.g., \"src/powerbi\"; leave empty if PBIP is at repo root\n",
        "\n",
        "# Target Report\n",
        "report_name_override = \"Monitoring Dashboard Country\"  # Optional: enforce a display name in the Service; else derived from folder\n",
        "\n",
        "# Dataset binding (REQUIRED: use the Semantic Model item ID in the target workspace)\n",
        "DATASET_ID       = \"79d647a8-9f43-4317-899a-660c0eb8999d\"\n",
        "\n",
        "# ---------- REPLACEMENT CONFIG (for visual.json) ----------\n",
        "# Example mappings:\n",
        "act_measure = \"Sales.Net Sales Amount by Order Date\"\n",
        "bud_measure = \"Sales.Net Sales Amount by Order Date PY\"\n",
        "dimension   = \"Customer.Country Name\"\n",
        "\n",
        "REPLACEMENTS = {\n",
        "    # explicit tokens\n",
        "    \"FactACTTable.ACTMeasure\": act_measure,\n",
        "    \"FactBUDTable.BUDMeasure\": bud_measure,\n",
        "    \"FactACTTable\":         act_measure.split(\".\")[0],     # left side of act_measure\n",
        "    \"ACTMeasure\":           act_measure.split(\".\")[1],     # right side of act_measure\n",
        "    \"FactBUDTable\":         bud_measure.split(\".\")[0],     # left side of bud_measure\n",
        "    \"BUDMeasure\":           bud_measure.split(\".\")[1],     # right side of bud_measure\n",
        "    \"DimTable.DimColumn\":   dimension,\n",
        "    \"DimTable\":             dimension.split(\".\")[0],       # left side of dimension\n",
        "    \"DimColumn\":            dimension.split(\".\")[1],       # right side of dimension\n",
        "}\n",
        "\n",
        "# ---------- HELPERS ----------\n",
        "def dl_and_extract_zip(zip_url: str) -> pathlib.Path:\n",
        "    \"\"\"Download repo ZIP and extract to a temp folder. Return the top-level folder.\"\"\"\n",
        "    tmpdir = tempfile.mkdtemp(prefix=\"pbip_report_\")\n",
        "    resp = requests.get(zip_url); resp.raise_for_status()\n",
        "    with zipfile.ZipFile(io.BytesIO(resp.content)) as zf:\n",
        "        zf.extractall(tmpdir)\n",
        "    roots = [pathlib.Path(tmpdir)/d for d in os.listdir(tmpdir)]\n",
        "    return next((p for p in roots if p.is_dir()), pathlib.Path(tmpdir))\n",
        "\n",
        "def read_pbir(report_dir: pathlib.Path) -> dict:\n",
        "    \"\"\"Load definition.pbir as JSON.\"\"\"\n",
        "    p = report_dir / \"definition.pbir\"\n",
        "    if not p.exists():\n",
        "        raise FileNotFoundError(f\"definition.pbir not found under {report_dir}\")\n",
        "    return json.loads(p.read_text(encoding=\"utf-8\"))\n",
        "\n",
        "def b64_bytes(data: bytes) -> str:\n",
        "    return base64.b64encode(data).decode(\"utf-8\")\n",
        "\n",
        "def rewrite_visual_json(report_dir: pathlib.Path, replacements: dict) -> None:\n",
        "    \"\"\"\n",
        "    Walk through ALL visual.json files under the report's 'definition' folder\n",
        "    and replace configured identifiers with new ones (simple string replace).\n",
        "    \"\"\"\n",
        "    def_root = report_dir / \"definition\"\n",
        "    if not def_root.exists():\n",
        "        raise FileNotFoundError(f\"'definition' folder is missing in report: {report_dir}\")\n",
        "    count = 0\n",
        "    for vfile in def_root.rglob(\"visual.json\"):\n",
        "        text = vfile.read_text(encoding=\"utf-8\")\n",
        "        for old, new in replacements.items():\n",
        "            text = text.replace(old, new)\n",
        "        vfile.write_text(text, encoding=\"utf-8\")\n",
        "        count += 1\n",
        "    print(f\"Rewrote identifiers in {count} visual.json file(s).\")\n",
        "\n",
        "def make_report_parts(report_dir: pathlib.Path, pbir_obj: dict) -> list:\n",
        "    \"\"\"\n",
        "    Build PBIR parts:\n",
        "      - 'definition.pbir' (at report root)\n",
        "      - ALL files under 'definition/' (incl. 'definition/report.json' and assets)\n",
        "    Paths must mirror the PBIP layout.\n",
        "    \"\"\"\n",
        "    parts = []\n",
        "    # 1) definition.pbir\n",
        "    raw_pbir = json.dumps(pbir_obj, ensure_ascii=False, indent=2).encode(\"utf-8\")\n",
        "    parts.append({\"path\": \"definition.pbir\", \"payload\": b64_bytes(raw_pbir), \"payloadType\": \"InlineBase64\"})\n",
        "\n",
        "    # 2) entire 'definition/' folder\n",
        "    def_root = report_dir / \"definition\"\n",
        "    if not def_root.exists():\n",
        "        raise FileNotFoundError(f\"'definition' folder is missing in report: {report_dir}\")\n",
        "    for p in def_root.rglob(\"*\"):\n",
        "        if p.is_file():\n",
        "            rel = str(p.relative_to(report_dir)).replace(\"\\\\\", \"/\")  # 'definition/...'\n",
        "            parts.append({\"path\": rel, \"payload\": b64_bytes(p.read_bytes()), \"payloadType\": \"InlineBase64\"})\n",
        "    return parts\n",
        "\n",
        "def get_report_display_name(report_dir: pathlib.Path) -> str:\n",
        "    return (report_name_override or report_dir.stem.replace(\".Report\", \"\")).strip()\n",
        "\n",
        "def ensure_by_connection_always(pbir_obj: dict, target_dataset_id: str) -> dict:\n",
        "    \"\"\"\n",
        "    Always overwrite datasetReference with a byConnection pointing to the given dataset ID.\n",
        "    \"\"\"\n",
        "    if not target_dataset_id or not target_dataset_id.strip():\n",
        "        raise RuntimeError(\"DATASET_ID is required and must not be empty.\")\n",
        "    pbir_obj[\"datasetReference\"] = {\n",
        "        \"byConnection\": {\n",
        "            \"pbiModelVirtualServerName\": \"sobe_wowvirtualserver\",\n",
        "            \"pbiModelDatabaseName\": target_dataset_id.strip(),\n",
        "            \"name\": \"EntityDataSource\",\n",
        "            \"connectionType\": \"pbiServiceXmlaStyleLive\",\n",
        "            \"connectionString\": None,\n",
        "            \"pbiServiceModelId\": None\n",
        "        }\n",
        "    }\n",
        "    return pbir_obj\n",
        "\n",
        "# ---------- MAIN ----------\n",
        "zip_url = f\"{github_repo}/zipball/{github_branch}\"\n",
        "root = dl_and_extract_zip(zip_url)\n",
        "project_root = root / pbip_subfolder if pbip_subfolder else root\n",
        "\n",
        "# Find the first PBIP report folder\n",
        "report_dir = next(project_root.glob(\"**/*.Report\"), None)\n",
        "if report_dir is None:\n",
        "    raise RuntimeError(f\"No *.Report folder found under {project_root}\")\n",
        "\n",
        "display_name = get_report_display_name(report_dir)\n",
        "\n",
        "# Load PBIR and force byConnection binding to the specified dataset\n",
        "pbir = read_pbir(report_dir)\n",
        "pbir = ensure_by_connection_always(pbir, DATASET_ID)\n",
        "\n",
        "# Apply identifier replacements in all visual.json files BEFORE packaging parts\n",
        "rewrite_visual_json(report_dir, REPLACEMENTS)\n",
        "\n",
        "# Build PBIR parts (definition.pbir + full 'definition/' folder)\n",
        "parts = make_report_parts(report_dir, pbir)\n",
        "\n",
        "# Create report via FabricRestClient (auth handled by the notebook environment)\n",
        "client = FabricRestClient()\n",
        "\n",
        "print(f\"Creating report '{display_name}' ...\")\n",
        "url = f\"v1/workspaces/{workspace_id}/items\"\n",
        "payload = {\n",
        "    \"type\": \"Report\",\n",
        "    \"displayName\": display_name,\n",
        "    \"definition\": {\"format\": \"PBIR\", \"parts\": parts}\n",
        "}\n",
        "resp = client.post(url, json=payload, lro_wait=True)\n",
        "\n",
        "# Parse response safely\n",
        "try:\n",
        "    body = resp.json()\n",
        "except Exception:\n",
        "    body = {}\n",
        "\n",
        "item_id = body.get(\"id\") or (body.get(\"item\") or {}).get(\"id\") or (body.get(\"operation\") or {}).get(\"targetId\")\n",
        "print(\"Created. HTTP:\", resp.status_code, \"ItemId:\", item_id or \"unknown\")\n",
        "print(\"=== DONE ===\")\n"
      ]
    },
    {
      "cell_type": "markdown",
      "metadata": {},
      "source": [
        "## ⚠️ Disclaimer\n",
        "\n",
        "This notebook is provided **as-is** for demonstration purposes only. \n",
        "Use at your own risk; **no liability** is assumed for any damages arising from its use.\n"
      ]
    },
    {
      "cell_type": "markdown",
      "metadata": {},
      "source": [
        "## Design Notes & Limitations\n",
        "\n",
        "- **Visual Calculations** can store logic *inside visuals*, reducing coupling to the semantic model and improving portability.  \n",
        "- **Report-specific measures** are possible. For parametrization, define a dedicated **home table** for report measures.  \n",
        "- The `visual.json` also references a **home table** for measures. Therefore, **template placeholders must be unique and consistent**, so measures bound to different home tables remain distinguishable and correctly mapped.\n",
        "\n",
        "> These constraints inform how the **reference model** and the **template** should be designed to be truly portable.\n"
      ]
    },
    {
      "cell_type": "markdown",
      "metadata": {},
      "source": [
        "## How to Reuse with a Different Semantic Model\n",
        "\n",
        "1. **Clone / open** this notebook in a Fabric workspace backed by capacity.  \n",
        "2. **Point parameters** (model, dataset, table/measure placeholders) to the **target** semantic model.  \n",
        "3. **Run** the notebook\n",
        "4. **Validate** result (open the report)\n",
        "5. **Iterate**: if a binding fails, adjust the mapping table or template placeholders.\n",
        "\n",
        "> Tip: Keep a **mapping registry** (CSV/JSON) for each target model so deployments are repeatable.\n"
      ]
    },
    {
      "cell_type": "markdown",
      "metadata": {},
      "source": [
        "## Credits & Links\n",
        "\n",
        "- Inspired by **FUAM deployment** (Kevin Thomas, Gellért Gintli)  \n",
        "- Inspired by **Patrick LeBlanc’s** video: *Creative way to use semPy to update a Power BI report definition*  \n",
        "- Project & reference model: **https://github.com/MarcusWegener/pbi-dashboard-template-notebook**\n",
        "\n",
        "- Patrick LeBlanc: *Creative way to use semPy to update a Power BI report definition*  \n",
        "  https://youtu.be/HT_J1QiBLwA?si=MpxYYYWvGIBtUhTM\n",
        "- Fabric Unified Admin Monitoring (FUAM)  \n",
        "  https://github.com/microsoft/fabric-toolbox/tree/main/monitoring/fabric-unified-admin-monitoring\n"
      ]
    }
  ],
  "metadata": {
    "dependencies": {},
    "kernel_info": {
      "jupyter_kernel_name": "python3.11",
      "name": "jupyter"
    },
    "kernelspec": {
      "display_name": "Python 3",
      "language": "python",
      "name": "python3"
    },
    "language_info": {
      "codemirror_mode": {
        "name": "ipython",
        "version": 3
      },
      "file_extension": ".py",
      "mimetype": "text/x-python",
      "name": "python",
      "nbconvert_exporter": "python",
      "pygments_lexer": "ipython3",
      "version": "3.12.10"
    },
    "microsoft": {
      "language": "python",
      "language_group": "jupyter_python",
      "ms_spell_check": {
        "ms_spell_check_language": "de"
      }
    },
    "nteract": {
      "version": "nteract-front-end@1.0.0"
    },
    "spark_compute": {
      "compute_id": "/trident/default",
      "session_options": {
        "conf": {
          "spark.synapse.nbs.session.timeout": "1200000"
        }
      }
    },
    "widgets": {
      "application/vnd.jupyter.widget-state+json": {
        "state": {
          "1c3c459dd4de41ea9955be639814635b": {
            "model_module": "@jupyter-widgets/controls",
            "model_module_version": "2.0.0",
            "model_name": "HTMLStyleModel",
            "state": {
              "description_width": "",
              "font_size": null,
              "text_color": null
            }
          },
          "24a052a293bd49cabeb918c94f6284fd": {
            "model_module": "@jupyter-widgets/base",
            "model_module_version": "2.0.0",
            "model_name": "LayoutModel",
            "state": {}
          },
          "26fa734897714e1fa9002f902b7e21f0": {
            "model_module": "@jupyter-widgets/base",
            "model_module_version": "2.0.0",
            "model_name": "LayoutModel",
            "state": {}
          },
          "35a7d449fdf148138af7aa0a2df68091": {
            "model_module": "@jupyter-widgets/controls",
            "model_module_version": "2.0.0",
            "model_name": "HTMLModel",
            "state": {
              "layout": "IPY_MODEL_4fe79e8ee5284ff89a040158287506bf",
              "style": "IPY_MODEL_6d13aa32c5724ad88a84f5cca6033bf9",
              "value": "Operation v1/workspaces/05407033-60c6-4fdc-85db-1d126ba9be51/items successfully completed: 100%"
            }
          },
          "3e60e335e9854a138868aadc93fa54b9": {
            "model_module": "@jupyter-widgets/base",
            "model_module_version": "2.0.0",
            "model_name": "LayoutModel",
            "state": {}
          },
          "450ae87402f341ed9584bfd57d2522ef": {
            "model_module": "@jupyter-widgets/controls",
            "model_module_version": "2.0.0",
            "model_name": "HTMLModel",
            "state": {
              "layout": "IPY_MODEL_26fa734897714e1fa9002f902b7e21f0",
              "style": "IPY_MODEL_1c3c459dd4de41ea9955be639814635b",
              "value": " 100/100 [00:20&lt;00:00,  4.98it/s]"
            }
          },
          "4b3102da972e495ba8d6216fae29c915": {
            "model_module": "@jupyter-widgets/controls",
            "model_module_version": "2.0.0",
            "model_name": "FloatProgressModel",
            "state": {
              "layout": "IPY_MODEL_6fa0a97a08594d6891ae355c9d89c207",
              "style": "IPY_MODEL_4fd0553e1ee04dc2b6aa83b896fd5106",
              "value": 100
            }
          },
          "4fd0553e1ee04dc2b6aa83b896fd5106": {
            "model_module": "@jupyter-widgets/controls",
            "model_module_version": "2.0.0",
            "model_name": "ProgressStyleModel",
            "state": {
              "description_width": ""
            }
          },
          "4fe79e8ee5284ff89a040158287506bf": {
            "model_module": "@jupyter-widgets/base",
            "model_module_version": "2.0.0",
            "model_name": "LayoutModel",
            "state": {}
          },
          "57c0085e7a3e47a487f6ba4f7ce2d522": {
            "model_module": "@jupyter-widgets/base",
            "model_module_version": "2.0.0",
            "model_name": "LayoutModel",
            "state": {}
          },
          "627269651af94c32bb49ae4fa2cd2d1c": {
            "model_module": "@jupyter-widgets/controls",
            "model_module_version": "2.0.0",
            "model_name": "HTMLModel",
            "state": {
              "layout": "IPY_MODEL_57c0085e7a3e47a487f6ba4f7ce2d522",
              "style": "IPY_MODEL_c46c94ec73484c00be7ce15d974e3bac",
              "value": "Operation v1/workspaces/05407033-60c6-4fdc-85db-1d126ba9be51/items successfully completed: 100%"
            }
          },
          "6d13aa32c5724ad88a84f5cca6033bf9": {
            "model_module": "@jupyter-widgets/controls",
            "model_module_version": "2.0.0",
            "model_name": "HTMLStyleModel",
            "state": {
              "description_width": "",
              "font_size": null,
              "text_color": null
            }
          },
          "6fa0a97a08594d6891ae355c9d89c207": {
            "model_module": "@jupyter-widgets/base",
            "model_module_version": "2.0.0",
            "model_name": "LayoutModel",
            "state": {}
          },
          "823c72bd3bca401788a2a4031dafe24d": {
            "model_module": "@jupyter-widgets/controls",
            "model_module_version": "2.0.0",
            "model_name": "HTMLStyleModel",
            "state": {
              "description_width": "",
              "font_size": null,
              "text_color": null
            }
          },
          "8e68041b337f4896ac3d12d5a23b68c7": {
            "model_module": "@jupyter-widgets/controls",
            "model_module_version": "2.0.0",
            "model_name": "FloatProgressModel",
            "state": {
              "layout": "IPY_MODEL_24a052a293bd49cabeb918c94f6284fd",
              "style": "IPY_MODEL_ecc77c9b08d740efab9cec93f942acb2",
              "value": 100
            }
          },
          "c208978061914c1c93f4a9d6ac945c91": {
            "model_module": "@jupyter-widgets/base",
            "model_module_version": "2.0.0",
            "model_name": "LayoutModel",
            "state": {}
          },
          "c46c94ec73484c00be7ce15d974e3bac": {
            "model_module": "@jupyter-widgets/controls",
            "model_module_version": "2.0.0",
            "model_name": "HTMLStyleModel",
            "state": {
              "description_width": "",
              "font_size": null,
              "text_color": null
            }
          },
          "d1ce974ce93541b2a24c81844c147ae0": {
            "model_module": "@jupyter-widgets/controls",
            "model_module_version": "2.0.0",
            "model_name": "HTMLModel",
            "state": {
              "layout": "IPY_MODEL_3e60e335e9854a138868aadc93fa54b9",
              "style": "IPY_MODEL_823c72bd3bca401788a2a4031dafe24d",
              "value": " 100/100 [00:20&lt;00:00,  4.99it/s]"
            }
          },
          "d4f9a5613bf1458f9f68e1582b8c9dca": {
            "model_module": "@jupyter-widgets/controls",
            "model_module_version": "2.0.0",
            "model_name": "HBoxModel",
            "state": {
              "children": [
                "IPY_MODEL_627269651af94c32bb49ae4fa2cd2d1c",
                "IPY_MODEL_4b3102da972e495ba8d6216fae29c915",
                "IPY_MODEL_d1ce974ce93541b2a24c81844c147ae0"
              ],
              "layout": "IPY_MODEL_c208978061914c1c93f4a9d6ac945c91"
            }
          },
          "e7e5f4d9b42b44cab6f8213955d37d76": {
            "model_module": "@jupyter-widgets/base",
            "model_module_version": "2.0.0",
            "model_name": "LayoutModel",
            "state": {}
          },
          "ea87a3bde31a49ac966b19e30195124e": {
            "model_module": "@jupyter-widgets/controls",
            "model_module_version": "2.0.0",
            "model_name": "HBoxModel",
            "state": {
              "children": [
                "IPY_MODEL_35a7d449fdf148138af7aa0a2df68091",
                "IPY_MODEL_8e68041b337f4896ac3d12d5a23b68c7",
                "IPY_MODEL_450ae87402f341ed9584bfd57d2522ef"
              ],
              "layout": "IPY_MODEL_e7e5f4d9b42b44cab6f8213955d37d76"
            }
          },
          "ecc77c9b08d740efab9cec93f942acb2": {
            "model_module": "@jupyter-widgets/controls",
            "model_module_version": "2.0.0",
            "model_name": "ProgressStyleModel",
            "state": {
              "description_width": ""
            }
          }
        },
        "version_major": 2,
        "version_minor": 0
      }
    }
  },
  "nbformat": 4,
  "nbformat_minor": 5
}
